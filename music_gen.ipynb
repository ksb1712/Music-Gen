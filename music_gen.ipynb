{
 "cells": [
  {
   "cell_type": "markdown",
   "metadata": {},
   "source": [
    "# Requirements"
   ]
  },
  {
   "cell_type": "code",
   "execution_count": null,
   "metadata": {},
   "outputs": [],
   "source": [
    "!pip install music21"
   ]
  },
  {
   "cell_type": "markdown",
   "metadata": {
    "colab_type": "text",
    "id": "GQ6ejQBP-p_w"
   },
   "source": [
    "# Data processing"
   ]
  },
  {
   "cell_type": "code",
   "execution_count": 4,
   "metadata": {
    "colab": {
     "base_uri": "https://localhost:8080/",
     "height": 98
    },
    "colab_type": "code",
    "id": "oLZ50OOe8u6n",
    "outputId": "1cc98d4d-58bd-4f63-a80c-ab2f4d09b394"
   },
   "outputs": [],
   "source": [
    "import glob\n",
    "from music21 import converter, instrument, note, chord, stream\n",
    "import pickle as pk\n",
    "import numpy as np\n",
    "from keras.utils import to_categorical\n",
    "import matplotlib.pyplot as plt\n",
    "from tqdm import tqdm"
   ]
  },
  {
   "cell_type": "code",
   "execution_count": 2,
   "metadata": {
    "colab": {},
    "colab_type": "code",
    "id": "SR6s3TA285v9"
   },
   "outputs": [],
   "source": [
    "#Read all midi files in the folder\n",
    "#Data can be downloaded from \"http://www.piano-midi.de/mozart.htm\"\n",
    "midi_files = glob.glob(\"./mozart/*.mid\")"
   ]
  },
  {
   "cell_type": "code",
   "execution_count": 5,
   "metadata": {
    "colab": {},
    "colab_type": "code",
    "id": "HGW-pk3Z869T"
   },
   "outputs": [
    {
     "name": "stderr",
     "output_type": "stream",
     "text": [
      "100%|██████████| 21/21 [02:48<00:00,  8.04s/it]\n"
     ]
    }
   ],
   "source": [
    "notes = []\n",
    "for i in tqdm(range(len(midi_files))):  #Iterate through each file\n",
    "    file = midi_files[i]\n",
    "    data = converter.parse(file)  #Parse the midi file into notes and chords,etc\n",
    "    #Identify the instruments available\n",
    "    # In this case only piano\n",
    "    piano = instrument.partitionByInstrument(data)\n",
    "    #Iterate through each note\n",
    "    # note can be represented by pitch\n",
    "    # chord represented by string notation\n",
    "    for val in piano.parts[0].recurse():\n",
    "        if isinstance(val, note.Note):\n",
    "            notes.append(str(val.pitch))\n",
    "        elif isinstance(val, chord.Chord):\n",
    "            notes.append('.'.join(str(n) for n in val.normalOrder))"
   ]
  },
  {
   "cell_type": "code",
   "execution_count": 7,
   "metadata": {},
   "outputs": [
    {
     "name": "stdout",
     "output_type": "stream",
     "text": [
      "['4.7', '0.4', '9.0', '9.0', '2.5', '5.9', '2.5', '11.2', '7.11', '7.11', 'C5', '4.7', 'D5', 'E5', 'C5', 'A4', 'F3', 'B4', 'C5', 'C#5', 'D5', 'E5', 'F5', 'D3', 'D5', 'C5', 'G3', 'B4', 'A4', 'G4', '4.7', '4.7', '0.4', '9.0', '9.0', '5.9', '2.5', '5.9', '11.2', '7.11', '7.11', 'A5', '0.4', 'G5', 'F5', 'E5', 'C#5', '5.9', 'D5', 'E5', 'F5', 'A4', 'C5', 'B4', '5.7', 'D5', 'C5', '0.4', 'C3', '4.7', '4.7', '0.4', '9.0', '9.0', '2.5', '5.9', '2.5', '11.2', '7.11', '7.11', 'C5', '4.7', 'D5', 'E5', 'C5', 'A4', 'F3', 'B4', 'C5', 'C#5', 'D5', 'E5', 'F5', 'D3', 'D5', 'C5', 'G3', 'B4', 'A4', 'G4', '4.7', '4.7', '0.4', '9.0', '9.0', '5.9', '2.5', '5.9', '11.2']\n",
      "\n",
      "Total number of notes: 59618\n"
     ]
    }
   ],
   "source": [
    "print(notes[1:100])\n",
    "print(\"\\nTotal number of notes: {}\".format(len(notes)))"
   ]
  },
  {
   "cell_type": "markdown",
   "metadata": {
    "colab_type": "text",
    "id": "BzHiXll7-DAl"
   },
   "source": [
    "\n",
    "## Prepare data for network\n",
    "\n"
   ]
  },
  {
   "cell_type": "code",
   "execution_count": 8,
   "metadata": {
    "colab": {},
    "colab_type": "code",
    "id": "u2wReFjh-nVQ"
   },
   "outputs": [],
   "source": [
    "#get unique elements in notes\n",
    "vals_list = sorted(set(element for element in notes))"
   ]
  },
  {
   "cell_type": "code",
   "execution_count": 9,
   "metadata": {},
   "outputs": [
    {
     "name": "stdout",
     "output_type": "stream",
     "text": [
      "No of unique notes: 197\n"
     ]
    }
   ],
   "source": [
    "print(\"No of unique notes: {}\".format(len(vals_list)))"
   ]
  },
  {
   "cell_type": "code",
   "execution_count": 10,
   "metadata": {
    "colab": {},
    "colab_type": "code",
    "id": "Hm7OTNv6_T5D"
   },
   "outputs": [],
   "source": [
    "#create a dictionary that maps notes to indices\n",
    "notes_to_index = dict((note,index) for index, note in enumerate(vals_list))"
   ]
  },
  {
   "cell_type": "code",
   "execution_count": null,
   "metadata": {
    "colab": {},
    "colab_type": "code",
    "id": "9KVSqpQeB4R0"
   },
   "outputs": [],
   "source": [
    "sequence_length = 50 #length of input sequence to network \n",
    "network_input = []\n",
    "network_output = []\n",
    "n_vocab = len(vals_list)\n",
    "# create input sequences and the corresponding outputs\n",
    "for i in range(len(notes) - sequence_length):\n",
    "    sequence_in = notes[i:i + sequence_length] #Take i to i+seq_len - 1 as input\n",
    "    sequence_out = notes[i + sequence_length] # Take i + seq_len as output\n",
    "    network_input.append([notes_to_index[char] for char in sequence_in]) #convert notes to integer index\n",
    "    network_output.append(notes_to_index[sequence_out])\n",
    "    n_patterns = len(network_input)# reshape the input into a format compatible with LSTM layers\n",
    "network_input = np.reshape(network_input, (n_patterns, sequence_length, 1))\n",
    "# normalize input\n",
    "network_input = network_input / float(n_vocab) #Range between 0 and 1\n",
    "network_output = to_categorical(network_output) #convert output to one hot encoded vector"
   ]
  },
  {
   "cell_type": "code",
   "execution_count": 12,
   "metadata": {
    "colab": {},
    "colab_type": "code",
    "id": "mROsAxGwFcgX"
   },
   "outputs": [],
   "source": [
    "from keras.models import Model\n",
    "from keras.layers import Dense, Activation, Dropout,Flatten\n",
    "from keras.layers import LSTM, Input, Bidirectional\n",
    "from keras.optimizers import Adam\n",
    "from keras.callbacks import ModelCheckpoint"
   ]
  },
  {
   "cell_type": "code",
   "execution_count": 23,
   "metadata": {
    "colab": {},
    "colab_type": "code",
    "id": "9YPCNdrCIOBZ"
   },
   "outputs": [],
   "source": [
    "# Base LSTM model\n",
    "def create_model_v1():\n",
    "    \n",
    "    inputs = Input(shape=(sequence_length,1)) #Input no sequences\n",
    "    l1 = LSTM(256,return_sequences=True)(inputs)\n",
    "    \n",
    "    l2 = LSTM(512,return_sequences=True)(l1)\n",
    "\n",
    "    l3 = LSTM(256,return_sequences=False)(l2)\n",
    "    l3 = Dropout(rate=0.5)(l3)\n",
    "\n",
    "    l4 = Dense(256,activation='relu')(l3)\n",
    "    l4 = Dropout(rate=0.5)(l4)\n",
    "\n",
    "    l5 = Dense(n_vocab)(l4) #output shape corresponds to no of unique vals\n",
    "    l5 = Activation('softmax')(l5)\n",
    "\n",
    "    model = Model(inputs=inputs, outputs=l5)\n",
    "\n",
    "    return model\n"
   ]
  },
  {
   "cell_type": "code",
   "execution_count": 24,
   "metadata": {},
   "outputs": [],
   "source": [
    "# LSTM model with more dropout and nodes\n",
    "def create_model_v2():\n",
    "    \n",
    "    inputs = Input(shape=(sequence_length,1)) #Input no sequences\n",
    "    l1 = LSTM(256,return_sequences=True)(inputs)\n",
    "    l1 = Dropout(rate=0.2)(l1)\n",
    "    \n",
    "    l2 = LSTM(512,return_sequences=True)(l1)\n",
    "    l2 = Dropout(rate=0.2)(l2)\n",
    "    \n",
    "    l3 = LSTM(512,return_sequences=False)(l2)\n",
    "    l3 = Dropout(rate=0.5)(l3)\n",
    "\n",
    "    l4 = Dense(256,activation='relu')(l3)\n",
    "    l4 = Dropout(rate=0.2)(l4)\n",
    "\n",
    "    l5 = Dense(n_vocab)(l4) #output shape corresponds to no of unique vals\n",
    "    l5 = Activation('softmax')(l5)\n",
    "\n",
    "    model = Model(inputs=inputs, outputs=l5)\n",
    "\n",
    "    return model\n",
    "\n",
    "\n",
    "\n",
    "\n"
   ]
  },
  {
   "cell_type": "code",
   "execution_count": 25,
   "metadata": {},
   "outputs": [],
   "source": [
    "# Base Bidirectional LSTM model\n",
    "def create_model_v3():\n",
    "    \n",
    "    inputs = Input(shape=(sequence_length,1)) #Input no sequences\n",
    "    l1 = Bidirectional(LSTM(256,return_sequences=True))(inputs)\n",
    "    \n",
    "    l2 = Bidirectional(LSTM(512,return_sequences=True))(l1)\n",
    "\n",
    "    l3 = Bidirectional(LSTM(256,return_sequences=False))(l2)\n",
    "    l3 = Dropout(rate=0.5)(l3)\n",
    "\n",
    "    l4 = Dense(256,activation='relu')(l3)\n",
    "    l4 = Dropout(rate=0.5)(l4)\n",
    "\n",
    "    l5 = Dense(n_vocab)(l4) #output shape corresponds to no of unique vals\n",
    "    l5 = Activation('softmax')(l5)\n",
    "\n",
    "    model = Model(inputs=inputs, outputs=l5)\n",
    "\n",
    "    return model\n"
   ]
  },
  {
   "cell_type": "code",
   "execution_count": 26,
   "metadata": {},
   "outputs": [],
   "source": [
    "# modified v2 LSTM model\n",
    "def create_model_v4():\n",
    "    \n",
    "    inputs = Input(shape=(sequence_length,1)) #Input no sequences\n",
    "    l1 = LSTM(256,return_sequences=True)(inputs)\n",
    "    \n",
    "    l2 = LSTM(512,return_sequences=True)(l1)\n",
    "\n",
    "    l3 = LSTM(256,return_sequences=False)(l2)\n",
    "    l3 = Dropout(rate=0.3)(l3)\n",
    "\n",
    "    l4 = Dense(256,activation='relu')(l3)\n",
    "\n",
    "    l5 = Dense(n_vocab)(l4) #output shape corresponds to no of unique vals\n",
    "    l5 = Activation('softmax')(l5)\n",
    "\n",
    "    model = Model(inputs=inputs, outputs=l5)\n",
    "\n",
    "    return model\n",
    "\n",
    "\n",
    "\n",
    "\n"
   ]
  },
  {
   "cell_type": "code",
   "execution_count": 30,
   "metadata": {
    "colab": {
     "base_uri": "https://localhost:8080/",
     "height": 228
    },
    "colab_type": "code",
    "id": "sdMv8sckLyzc",
    "outputId": "20416818-f1c4-475e-b3f0-9058c76e41ed"
   },
   "outputs": [],
   "source": [
    "model = create_model_v4()"
   ]
  },
  {
   "cell_type": "code",
   "execution_count": 31,
   "metadata": {
    "colab": {
     "base_uri": "https://localhost:8080/",
     "height": 573
    },
    "colab_type": "code",
    "id": "mUGiwJJPOfDJ",
    "outputId": "627fe182-2c0c-42c8-cfd3-6d5e34dae571"
   },
   "outputs": [
    {
     "name": "stdout",
     "output_type": "stream",
     "text": [
      "_________________________________________________________________\n",
      "Layer (type)                 Output Shape              Param #   \n",
      "=================================================================\n",
      "input_7 (InputLayer)         (None, 50, 1)             0         \n",
      "_________________________________________________________________\n",
      "lstm_19 (LSTM)               (None, 50, 256)           264192    \n",
      "_________________________________________________________________\n",
      "lstm_20 (LSTM)               (None, 50, 512)           1574912   \n",
      "_________________________________________________________________\n",
      "lstm_21 (LSTM)               (None, 256)               787456    \n",
      "_________________________________________________________________\n",
      "dropout_15 (Dropout)         (None, 256)               0         \n",
      "_________________________________________________________________\n",
      "dense_12 (Dense)             (None, 256)               65792     \n",
      "_________________________________________________________________\n",
      "dense_13 (Dense)             (None, 197)               50629     \n",
      "_________________________________________________________________\n",
      "activation_6 (Activation)    (None, 197)               0         \n",
      "=================================================================\n",
      "Total params: 2,742,981\n",
      "Trainable params: 2,742,981\n",
      "Non-trainable params: 0\n",
      "_________________________________________________________________\n"
     ]
    }
   ],
   "source": [
    "model.summary()"
   ]
  },
  {
   "cell_type": "code",
   "execution_count": null,
   "metadata": {
    "colab": {
     "base_uri": "https://localhost:8080/",
     "height": 106
    },
    "colab_type": "code",
    "id": "rmi7O1a-L1iS",
    "outputId": "b742ec48-209f-4cef-b887-49bae047bb40"
   },
   "outputs": [],
   "source": [
    "model.compile(loss='categorical_crossentropy', optimizer='adam')"
   ]
  },
  {
   "cell_type": "code",
   "execution_count": null,
   "metadata": {
    "colab": {},
    "colab_type": "code",
    "id": "Kom1sGheNbgW"
   },
   "outputs": [],
   "source": [
    "#Save the model weight that has lowest training loss\n",
    "checkpoint = ModelCheckpoint('best_v4.h5',save_best_only=True,verbose=1,monitor='loss',mode='min')"
   ]
  },
  {
   "cell_type": "code",
   "execution_count": null,
   "metadata": {
    "colab": {
     "base_uri": "https://localhost:8080/",
     "height": 1000
    },
    "colab_type": "code",
    "id": "rk4VM__wN6mL",
    "outputId": "63dfbe06-9b9c-4a25-fddc-8b2bb19dae90"
   },
   "outputs": [],
   "source": [
    "history = model.fit(network_input,network_output,batch_size=128,epochs=110,verbose=1,callbacks=[checkpoint])"
   ]
  },
  {
   "cell_type": "code",
   "execution_count": null,
   "metadata": {},
   "outputs": [],
   "source": [
    "#Plot the training curve\n",
    "plt.plot(history.history['loss'])\n",
    "plt.title('Model loss')\n",
    "plt.ylabel('Loss')\n",
    "plt.xlabel('Epoch')\n",
    "plt.show()\n",
    "\n"
   ]
  },
  {
   "cell_type": "code",
   "execution_count": null,
   "metadata": {
    "colab": {},
    "colab_type": "code",
    "id": "WObZnXJVi8pk"
   },
   "outputs": [],
   "source": [
    "#start with random note\n",
    "start = np.random.randint(0, len(network_input)-1)\n",
    "\n",
    "#dictionary that maps indices to notes \n",
    "index_to_notes = dict({index:note for index, note in enumerate(vals_list)})\n",
    "\n",
    "pattern = list(network_input[start])\n",
    "prediction_output = []\n",
    "\n",
    "#Generate sequences of length 500\n",
    "for note_index in range(200):\n",
    "    # get proper shape\n",
    "    prediction_input = np.reshape(pattern, (1, len(pattern), 1))\n",
    "    prediction_input = prediction_input / float(n_vocab)    \n",
    "    prediction = model.predict(prediction_input, verbose=0)    \n",
    "    index = np.argmax(prediction)\n",
    "    result = index_to_notes[index]\n",
    "    prediction_output.append(result)\n",
    "    \n",
    "    #use predicted result with old input for next iteration\n",
    "    pattern.append(index)\n",
    "    pattern = pattern[1:len(pattern)]"
   ]
  },
  {
   "cell_type": "code",
   "execution_count": null,
   "metadata": {
    "colab": {},
    "colab_type": "code",
    "id": "iKAOHYXHG153"
   },
   "outputs": [],
   "source": [
    "'''\n",
    "chords are array of notes and need to identified as such\n",
    "pitch is just one instance of a note\n",
    "'''\n",
    "\n",
    "offset = 0\n",
    "output_notes = []\n",
    "for pattern in prediction_output:\n",
    "    # pattern is a chord\n",
    "    if ('.' in pattern) or pattern.isdigit():\n",
    "        notes_in_chord = pattern.split('.')\n",
    "        notes = []\n",
    "        for current_note in notes_in_chord:\n",
    "            new_note = note.Note(int(current_note))\n",
    "            new_note.storedInstrument = instrument.Piano()\n",
    "            notes.append(new_note)\n",
    "        new_chord = chord.Chord(notes)\n",
    "        new_chord.offset = offset\n",
    "        output_notes.append(new_chord)\n",
    "    # pattern is a note\n",
    "    else:\n",
    "        new_note = note.Note(pattern)\n",
    "        new_note.offset = offset\n",
    "        new_note.storedInstrument = instrument.Piano()\n",
    "        output_notes.append(new_note)    # increase offset each iteration so that notes do not stack\n",
    "    offset += 0.5"
   ]
  },
  {
   "cell_type": "code",
   "execution_count": null,
   "metadata": {},
   "outputs": [],
   "source": [
    "#Save as midid\n",
    "midi_stream = stream.Stream(output_notes)\n",
    "midi_stream.write('midi', fp='len_50_model_v2.mid')"
   ]
  },
  {
   "cell_type": "code",
   "execution_count": null,
   "metadata": {},
   "outputs": [],
   "source": []
  }
 ],
 "metadata": {
  "accelerator": "GPU",
  "colab": {
   "collapsed_sections": [],
   "name": "Untitled6.ipynb",
   "provenance": [],
   "toc_visible": true
  },
  "kernelspec": {
   "display_name": "Python 3",
   "language": "python",
   "name": "python3"
  },
  "language_info": {
   "codemirror_mode": {
    "name": "ipython",
    "version": 3
   },
   "file_extension": ".py",
   "mimetype": "text/x-python",
   "name": "python",
   "nbconvert_exporter": "python",
   "pygments_lexer": "ipython3",
   "version": "3.6.9"
  }
 },
 "nbformat": 4,
 "nbformat_minor": 1
}
